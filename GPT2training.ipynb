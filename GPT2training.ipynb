{
 "cells": [
  {
   "cell_type": "code",
   "execution_count": null,
   "metadata": {
    "colab": {
     "base_uri": "https://localhost:8080/",
     "height": 122
    },
    "colab_type": "code",
    "id": "XNxbGo0MvOg0",
    "outputId": "6941b6be-2027-4066-c6e2-528a65ef49d5"
   },
   "outputs": [
    {
     "name": "stdout",
     "output_type": "stream",
     "text": [
      "Go to this URL in a browser: https://accounts.google.com/o/oauth2/auth?client_id=947318989803-6bn6qk8qdgf4n4g3pfee6491hc0brc4i.apps.googleusercontent.com&redirect_uri=urn%3aietf%3awg%3aoauth%3a2.0%3aoob&scope=email%20https%3a%2f%2fwww.googleapis.com%2fauth%2fdocs.test%20https%3a%2f%2fwww.googleapis.com%2fauth%2fdrive%20https%3a%2f%2fwww.googleapis.com%2fauth%2fdrive.photos.readonly%20https%3a%2f%2fwww.googleapis.com%2fauth%2fpeopleapi.readonly&response_type=code\n",
      "\n",
      "Enter your authorization code:\n",
      "··········\n",
      "Mounted at /content/drive\n"
     ]
    }
   ],
   "source": [
    "from google.colab import drive\n",
    "drive.mount('/content/drive')"
   ]
  },
  {
   "cell_type": "code",
   "execution_count": null,
   "metadata": {
    "colab": {
     "base_uri": "https://localhost:8080/",
     "height": 102
    },
    "colab_type": "code",
    "id": "u_1RTFT0xvWw",
    "outputId": "4d86e6ee-a6d8-48b7-aa77-cf66792984be"
   },
   "outputs": [
    {
     "name": "stdout",
     "output_type": "stream",
     "text": [
      "/content/drive\n",
      "/content/drive/My Drive\n",
      "mkdir: cannot create directory ‘GPT2’: File exists\n",
      "/content\n",
      "drive  sample_data\n"
     ]
    }
   ],
   "source": [
    "%cd drive\n",
    "%cd My\\ Drive\n",
    "%mkdir GPT2\n",
    "%cd /content/\n",
    "!ls"
   ]
  },
  {
   "cell_type": "code",
   "execution_count": null,
   "metadata": {
    "colab": {
     "base_uri": "https://localhost:8080/",
     "height": 102
    },
    "colab_type": "code",
    "id": "uKB8kiIpydZU",
    "outputId": "25db2f8e-3d5e-4e4c-8114-d31257e7a371"
   },
   "outputs": [
    {
     "name": "stdout",
     "output_type": "stream",
     "text": [
      "Cloning into 'gpt-2'...\n",
      "remote: Enumerating objects: 375, done.\u001b[K\n",
      "remote: Total 375 (delta 0), reused 0 (delta 0), pack-reused 375\u001b[K\n",
      "Receiving objects: 100% (375/375), 4.42 MiB | 3.28 MiB/s, done.\n",
      "Resolving deltas: 100% (205/205), done.\n"
     ]
    }
   ],
   "source": [
    "!git clone https://github.com/nshepperd/gpt-2.git"
   ]
  },
  {
   "cell_type": "code",
   "execution_count": null,
   "metadata": {
    "colab": {
     "base_uri": "https://localhost:8080/",
     "height": 170
    },
    "colab_type": "code",
    "id": "mrqMJy6hyq8X",
    "outputId": "3b7d8b7e-1757-45a8-9ec8-11693ff72d6c"
   },
   "outputs": [
    {
     "name": "stdout",
     "output_type": "stream",
     "text": [
      "[Errno 2] No such file or directory: 'gpt-2'\n",
      "/content/gpt-2\n",
      "Fetching checkpoint: 1.00kit [00:00, 1.10Mit/s]                                                     \n",
      "Fetching encoder.json: 1.04Mit [00:00, 32.4Mit/s]                                                   \n",
      "Fetching hparams.json: 1.00kit [00:00, 883kit/s]                                                    \n",
      "Fetching model.ckpt.data-00000-of-00001: 1.42Git [00:42, 33.4Mit/s]                                 \n",
      "Fetching model.ckpt.index: 11.0kit [00:00, 8.39Mit/s]                                               \n",
      "Fetching model.ckpt.meta: 927kit [00:00, 32.1Mit/s]                                                 \n",
      "Fetching vocab.bpe: 457kit [00:00, 33.7Mit/s]                                                       \n"
     ]
    }
   ],
   "source": [
    "%cd gpt-2\n",
    "!python3 download_model.py 345M"
   ]
  },
  {
   "cell_type": "code",
   "execution_count": null,
   "metadata": {
    "colab": {
     "base_uri": "https://localhost:8080/",
     "height": 51
    },
    "colab_type": "code",
    "id": "SRADxuIB1i0h",
    "outputId": "766c105c-0cb8-4a7c-f61c-11c840495042"
   },
   "outputs": [
    {
     "name": "stdout",
     "output_type": "stream",
     "text": [
      "/content/gpt-2/src\n",
      "/content/gpt-2/src/corpus\n"
     ]
    }
   ],
   "source": [
    "%cd src\n",
    "%mkdir corpus\n",
    "%cd corpus/\n",
    "!export PYTHONIOENCODING=UT"
   ]
  },
  {
   "cell_type": "code",
   "execution_count": null,
   "metadata": {
    "colab": {},
    "colab_type": "code",
    "id": "c_MuAm_vMa8L"
   },
   "outputs": [],
   "source": []
  }
 ],
 "metadata": {
  "accelerator": "GPU",
  "colab": {
   "collapsed_sections": [],
   "name": "GPT2training.ipynb",
   "provenance": []
  },
  "kernelspec": {
   "display_name": "Python 3",
   "language": "python",
   "name": "python3"
  },
  "language_info": {
   "codemirror_mode": {
    "name": "ipython",
    "version": 3
   },
   "file_extension": ".py",
   "mimetype": "text/x-python",
   "name": "python",
   "nbconvert_exporter": "python",
   "pygments_lexer": "ipython3",
   "version": "3.8.3"
  }
 },
 "nbformat": 4,
 "nbformat_minor": 1
}
